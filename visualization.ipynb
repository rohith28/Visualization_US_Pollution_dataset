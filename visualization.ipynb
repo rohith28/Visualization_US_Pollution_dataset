{
  "cells": [
    {
      "cell_type": "markdown",
      "metadata": {
        "_cell_guid": "d80dc4aa-173c-2a9b-4520-5342e1a9b26d"
      },
      "source": [
        "# Keywords:  Basemap, Animation, Plotly for Air Quality Index"
      ]
    },
    {
      "cell_type": "markdown",
      "metadata": {
        "_cell_guid": "5dbde343-49c1-247a-50bd-f359eff9cfa4"
      },
      "source": [
        "## 1. Introduction\n",
        "Air quality data can be visualized through various ways. In this notebook, I use Basemap, matplotlib's animation, and plotly maps. I used shapefiles for the US and the state of California readily available (and searchable) via Google, such as the following links:\n",
        "<a href=\"https://infosys.ars.usda.gov/svn/code/weps1/trunk/weps.install/db/gis/st99_d00/\">US Shapefile</a> and <a href=\"http://52.26.186.219/internships/useit/content/california-counties-shapefiles\">California Shapefile</a>\n",
        "\n",
        "Nb: Later I realized that I cannot upload shapefile. Other ways were found below... "
      ]
    },
    {
      "cell_type": "code",
      "execution_count": null,
      "metadata": {
        "_cell_guid": "949efc94-7432-2c35-0d06-98a67a8ea08c"
      },
      "outputs": [],
      "source": [
        "import pandas as pd\n",
        "import numpy as np\n",
        "from datetime import datetime\n",
        "import matplotlib as mpl\n",
        "import matplotlib.pyplot as plt\n",
        "from matplotlib.animation import FuncAnimation"
      ]
    },
    {
      "cell_type": "code",
      "execution_count": null,
      "metadata": {
        "_cell_guid": "f3fbc417-888c-c41f-510e-e91338a71865"
      },
      "outputs": [],
      "source": [
        "poll = pd.read_csv(\"../input/pollution_us_2000_2016.csv\")"
      ]
    },
    {
      "cell_type": "markdown",
      "metadata": {
        "_cell_guid": "e8359a82-8a5f-f15d-df17-89718ea06f02"
      },
      "source": [
        "## 2. Peek through the dataset\n",
        "Remove unnecessary columns first of all. We would rather need the air quality level of each category, not necessarily the absolute values. So I'll only use Air Quality Index (AQI) as defined by EPA. More detailed information on the Index can be found below the link:\n",
        "<a href=\"https://cfpub.epa.gov/airnow/index.cfm?action=aqibasics.aqi\">EPA Air Quality Index Basic Page</a>\n",
        "The dateset has 4 air pollution categories that are NO2, O3, SO2, and CO. It might have been better if the dataset contained particle pollution (or particulate matter - PM) level too - which would cause similarly important health issues. "
      ]
    },
    {
      "cell_type": "code",
      "execution_count": null,
      "metadata": {
        "_cell_guid": "27dc0f24-aaab-1b7e-4319-bab8f610bcda"
      },
      "outputs": [],
      "source": [
        "poll = poll.drop(['Unnamed: 0','State Code','County Code','Site Num','Address','NO2 Units','O3 Units','SO2 Units','CO Units'],axis=1)\n",
        "poll.head()"
      ]
    },
    {
      "cell_type": "markdown",
      "metadata": {
        "_cell_guid": "8d5eaf84-de27-2bc2-1863-41e0e16835a7"
      },
      "source": [
        "Some entries have several values for the same observation date. As there's no specific explanation for these duplications nor answers to questions to the forum, I'll get the mean values for each date and location (state in the case below). "
      ]
    },
    {
      "cell_type": "code",
      "execution_count": null,
      "metadata": {
        "_cell_guid": "e29d0fe0-b989-9cfc-cd52-cb8335346e57"
      },
      "outputs": [],
      "source": [
        "## Prepare all 4 AQIs against state and date \n",
        "pollSt = poll[['State','Date Local','NO2 AQI','O3 AQI','SO2 AQI','CO AQI']]\n",
        "pollSt = pollSt.dropna(axis='rows')  # Delete rows with NAs\n",
        "pollSt = pollSt[pollSt.State!='Country Of Mexico']  # Delete Mexico\n",
        "pollSt['Date Local'] = pd.to_datetime(pollSt['Date Local'],format='%Y-%m-%d')  # Change date from string to date value\n",
        "pollSt = pollSt.groupby(['State','Date Local']).mean()  # Take mean values if there are depulicated entries\n",
        "pollStGrouped = pollSt.groupby(level=0)"
      ]
    },
    {
      "cell_type": "markdown",
      "metadata": {
        "_cell_guid": "48f11c9f-4682-c96c-117e-3e00393fa469"
      },
      "source": [
        "Plot all 4 AQIs with the top 4 states that have the maximum mean AQI value over time. When plotting, take monthly mean values as the representative values."
      ]
    },
    {
      "cell_type": "code",
      "execution_count": null,
      "metadata": {
        "_cell_guid": "14d94334-43f7-a776-8723-7c277a2cffd7"
      },
      "outputs": [],
      "source": [
        "## Plot 4 AQIs with top 4 states\n",
        "plt.figure(figsize=(12,8))\n",
        "\n",
        "# NO2 AQI\n",
        "plt.subplot(221)\n",
        "pollNO2 = pollStGrouped['NO2 AQI']\n",
        "pollNO2Top = pollNO2.mean().nlargest(4).index\n",
        "for i in range(len(pollNO2Top)):\n",
        "    pollNO2.get_group(pollNO2Top[i]).groupby(pd.Grouper(level='Date Local',freq='M')).mean().plot()\n",
        "plt.legend(pollNO2Top,loc=3,fontsize='small')\n",
        "plt.title('NO2 AQI')\n",
        "\n",
        "# O3 AQI\n",
        "plt.subplot(222)\n",
        "pollO3 = pollStGrouped['O3 AQI']\n",
        "pollO3Top = pollO3.mean().nlargest(4).index\n",
        "for i in range(len(pollO3Top)):\n",
        "    pollO3.get_group(pollO3Top[i]).groupby(pd.Grouper(level='Date Local',freq='M')).mean().plot()\n",
        "plt.legend(pollO3Top,loc=3,fontsize='small')\n",
        "plt.title('O3 AQI')\n",
        "\n",
        "# SO2 AQI\n",
        "plt.subplot(223)\n",
        "pollSO2 = pollStGrouped['SO2 AQI']\n",
        "pollSO2Top = pollSO2.mean().nlargest(4).index\n",
        "for i in range(len(pollSO2Top)):\n",
        "    pollSO2.get_group(pollSO2Top[i]).groupby(pd.Grouper(level='Date Local',freq='M')).mean().plot()\n",
        "plt.legend(pollSO2Top,loc=3,fontsize='small')\n",
        "plt.title('SO2 AQI')\n",
        "\n",
        "# CO AQI\n",
        "plt.subplot(224)\n",
        "pollCO = pollStGrouped['CO AQI']\n",
        "pollCOTop = pollCO.mean().nlargest(4).index\n",
        "for i in range(len(pollCOTop)):\n",
        "    pollCO.get_group(pollCOTop[i]).groupby(pd.Grouper(level='Date Local',freq='M')).mean().plot()\n",
        "plt.legend(pollCOTop,loc=3,fontsize='small')\n",
        "plt.title('CO AQI')\n",
        "\n",
        "plt.tight_layout()\n",
        "plt.show()"
      ]
    },
    {
      "cell_type": "markdown",
      "metadata": {
        "_cell_guid": "f93c41fe-81d7-30d1-d7e3-5936d0d5d994"
      },
      "source": [
        "## 3. Animation display\n",
        "Now, I'll pick only a couple of states to show the evolution of the indexes over time. I picked only 4 but you can go on and on with more states to complete through the entire U.S, this is just to showcase. For values resampled over month, I take maximum values rather than mean as it depicts the level of danger of the month. Mean can hide eccentric/extreme values. "
      ]
    },
    {
      "cell_type": "code",
      "execution_count": null,
      "metadata": {
        "_cell_guid": "a0ab159f-73eb-b2c9-f464-71c59faeb67e"
      },
      "outputs": [],
      "source": [
        "## California AQIs - resampled monthly\n",
        "pollCal = poll[(poll.State=='California')].copy()\n",
        "pollCal['Date Local'] = pd.to_datetime(pollCal['Date Local'],format='%Y-%m-%d')\n",
        "aqiCal = pollCal[['Date Local','NO2 AQI','O3 AQI','SO2 AQI','CO AQI']].groupby(['Date Local'])\n",
        "aqiCal = aqiCal.mean()\n",
        "aqiCal = aqiCal.resample('M').max() # Take maximum value over month for 4 AQIs. You can also use mean()"
      ]
    },
    {
      "cell_type": "code",
      "execution_count": null,
      "metadata": {
        "_cell_guid": "1dfe35d5-6592-2aa9-9183-31a97a169753"
      },
      "outputs": [],
      "source": [
        "## Texas AQIs - resampled monthly\n",
        "pollTex = poll[(poll.State=='Texas')].copy()\n",
        "pollTex['Date Local'] = pd.to_datetime(pollTex['Date Local'],format='%Y-%m-%d')\n",
        "aqiTex = pollTex[['Date Local','NO2 AQI','O3 AQI','SO2 AQI','CO AQI']].groupby(['Date Local'])\n",
        "aqiTex = aqiTex.mean()\n",
        "aqiTex = aqiTex.resample('M').max()"
      ]
    },
    {
      "cell_type": "code",
      "execution_count": null,
      "metadata": {
        "_cell_guid": "3af47533-e095-c0e5-8e37-0a0e83247af7"
      },
      "outputs": [],
      "source": [
        "## New York AQIs - resampled monthly\n",
        "pollNY = poll[(poll.State=='New York')].copy()\n",
        "pollNY['Date Local'] = pd.to_datetime(pollNY['Date Local'],format='%Y-%m-%d')\n",
        "aqiNY = pollNY[['Date Local','NO2 AQI','O3 AQI','SO2 AQI','CO AQI']].groupby(['Date Local'])\n",
        "aqiNY = aqiNY.mean()\n",
        "aqiNY = aqiNY.resample('M').max()"
      ]
    },
    {
      "cell_type": "code",
      "execution_count": null,
      "metadata": {
        "_cell_guid": "a9eab056-e615-b750-01a4-3a134347e4f8"
      },
      "outputs": [],
      "source": [
        "## Illinois AQIs - resampled monthly\n",
        "pollIL = poll[(poll.State=='Illinois')].copy()\n",
        "pollIL['Date Local'] = pd.to_datetime(pollIL['Date Local'],format='%Y-%m-%d')\n",
        "aqiIL = pollIL[['Date Local','NO2 AQI','O3 AQI','SO2 AQI','CO AQI']].groupby(['Date Local'])\n",
        "aqiIL = aqiIL.mean()\n",
        "aqiIL = aqiIL.resample('M').max()"
      ]
    },
    {
      "cell_type": "markdown",
      "metadata": {
        "_cell_guid": "3b5d2110-3c6c-38be-fe8e-34f7e7e71ba3"
      },
      "source": [
        "Import basemap and polygon packages for later use. Magic function matplotlib nbagg is needed for animation. Using shapefile is easy and powerful but there is no way being able to upload shapefiles on ../input folder (I realized this just before I first published this kernel). I was playing with shapefiles in my inotebook but not on Kaggle kernel. So let us go away with using shapefile."
      ]
    },
    {
      "cell_type": "code",
      "execution_count": null,
      "metadata": {
        "_cell_guid": "74c65801-6bb9-def0-830c-ea6c26456c5a"
      },
      "outputs": [],
      "source": [
        "from mpl_toolkits.basemap import Basemap\n",
        "from matplotlib.patches import Polygon\n",
        "import shapefile\n",
        "%matplotlib nbagg"
      ]
    },
    {
      "cell_type": "markdown",
      "metadata": {
        "_cell_guid": "536da415-35a9-936a-f667-1c1169ba81db"
      },
      "source": [
        "Hmm.. the animation doesn't seem to properly appear here (it works fine in my jupyter notebook). Is there anyone who knows the trick? I'll paste the result from my inotebook as a gif for now below..."
      ]
    },
    {
      "cell_type": "code",
      "execution_count": null,
      "metadata": {
        "_cell_guid": "bab51ae2-291c-f03f-791d-f92378e1d2a9"
      },
      "outputs": [],
      "source": [
        "## Plot data onto the basemap with FuncAnimation (displaying 4 AQI data over time)\n",
        "fig = plt.figure(figsize=(10,5))\n",
        "map = Basemap(llcrnrlon=-119,llcrnrlat=22,urcrnrlon=-64,urcrnrlat=49,projection='lcc',lat_1=33,lat_2=45,lon_0=-95)\n",
        "# I commented shapefile out...\n",
        "#map.readshapefile('../input/st99_d00', name='states', drawbounds=True)\n",
        "map.drawcoastlines()\n",
        "map.drawmapboundary(fill_color='#9fdbff',zorder=1)\n",
        "map.fillcontinents(color='#f0f8ff',lake_color='#9fdbff',alpha=0.8,zorder=1.5)\n",
        "map.drawcountries(linewidth=1.5, color='darkblue')\n",
        "map.drawstates()\n",
        "ax = plt.gca()\n",
        "\n",
        "## Initialize \n",
        "sizesCal = aqiCal.iloc[0]*10\n",
        "colorsCal = aqiCal.iloc[0]\n",
        "sizesTex = aqiTex.iloc[0]*10\n",
        "colorsTex = aqiTex.iloc[0]\n",
        "sizesNY = aqiNY.iloc[0]*10\n",
        "colorsNY = aqiNY.iloc[0]\n",
        "sizesIL = aqiIL.iloc[0]*10\n",
        "colorsIL = aqiIL.iloc[0]\n",
        "cmap, norm = mpl.colors.from_levels_and_colors([0,50,100,150,200,300,500], ['green','yellow','orange','red','purple','maroon'])\n",
        "m = mpl.cm.ScalarMappable(norm=norm, cmap=cmap)\n",
        "plt.title(aqiCal.index[0].strftime('%Y-%m'))\n",
        "\n",
        "# California\n",
        "x1,y1=map(-120.4179,37.7783)\n",
        "x2,y2=map(-118.4179,37.7783)\n",
        "x3,y3=map(-120.4179,35.7783)\n",
        "x4,y4=map(-118.4179,35.7783)\n",
        "scatter1 = map.scatter(np.array([x1,x2,x3,x4]),np.array([y1,y2,y3,y4]),s=sizesCal,c=colorsCal,cmap=cmap,norm=norm,alpha=0.9,edgecolors='face',zorder=3)\n",
        "x=[x1,x2,x3,x4]\n",
        "y=[y1,y2,y3,y4]\n",
        "labels=['NO2','O3','SO2','CO']\n",
        "for i, txt in enumerate(labels):\n",
        "    ax.annotate(labels[i],(x[i],y[i]),size=8,va='center',ha='center')\n",
        "\n",
        "# Texas\n",
        "x1,y1=map(-100.9018,32.9686)\n",
        "x2,y2=map(-98.9018,32.9686)\n",
        "x3,y3=map(-100.9018,30.9686)\n",
        "x4,y4=map(-98.9018,30.9686)\n",
        "scatter2 = map.scatter(np.array([x1,x2,x3,x4]),np.array([y1,y2,y3,y4]),s=sizesTex,c=colorsTex,cmap=cmap,norm=norm,alpha=0.9,edgecolors='face',zorder=3)\n",
        "x=[x1,x2,x3,x4]\n",
        "y=[y1,y2,y3,y4]\n",
        "labels=['NO2','O3','SO2','CO']\n",
        "for i, txt in enumerate(labels):\n",
        "    ax.annotate(labels[i],(x[i],y[i]),size=8,va='center',ha='center')\n",
        "\n",
        "# New York\n",
        "x1,y1=map(-75.2179,44.2994)\n",
        "x2,y2=map(-73.2179,44.2994)\n",
        "x3,y3=map(-75.2179,42.2994)\n",
        "x4,y4=map(-73.2179,42.2994)\n",
        "scatter3 = map.scatter(np.array([x1,x2,x3,x4]),np.array([y1,y2,y3,y4]),s=sizesNY,c=colorsNY,cmap=cmap,norm=norm,alpha=0.9,edgecolors='face',zorder=3)\n",
        "x=[x1,x2,x3,x4]\n",
        "y=[y1,y2,y3,y4]\n",
        "labels=['NO2','O3','SO2','CO']\n",
        "for i, txt in enumerate(labels):\n",
        "    ax.annotate(labels[i],(x[i],y[i]),size=8,va='center',ha='center')    \n",
        "\n",
        "# Illinois\n",
        "x1,y1=map(-90.3985,41.6331)\n",
        "x2,y2=map(-88.3985,41.6331)\n",
        "x3,y3=map(-90.3985,39.6331)\n",
        "x4,y4=map(-88.3985,39.6331)\n",
        "scatter4 = map.scatter(np.array([x1,x2,x3,x4]),np.array([y1,y2,y3,y4]),s=sizesIL,c=colorsIL,cmap=cmap,norm=norm,alpha=0.9,edgecolors='face',zorder=3)\n",
        "x=[x1,x2,x3,x4]\n",
        "y=[y1,y2,y3,y4]\n",
        "labels=['NO2','O3','SO2','CO']\n",
        "for i, txt in enumerate(labels):\n",
        "    ax.annotate(labels[i],(x[i],y[i]),size=8,va='center',ha='center')     \n",
        "    \n",
        "## Update function for animation\n",
        "def update(i):\n",
        "    scatter1.set_sizes(aqiCal.iloc[i]*10)\n",
        "    scatter1.set_color(m.to_rgba(aqiCal.iloc[i]))\n",
        "    scatter2.set_sizes(aqiTex.iloc[i]*10)\n",
        "    scatter2.set_color(m.to_rgba(aqiTex.iloc[i]))\n",
        "    scatter3.set_sizes(aqiNY.iloc[i]*10)\n",
        "    scatter3.set_color(m.to_rgba(aqiNY.iloc[i]))\n",
        "    scatter4.set_sizes(aqiIL.iloc[i]*10)\n",
        "    scatter4.set_color(m.to_rgba(aqiIL.iloc[i]))\n",
        "    plt.title(aqiCal.index[i].strftime('%Y-%m'))\n",
        "    return scatter1, scatter2, scatter3, scatter4, \n",
        "\n",
        "anim = FuncAnimation(plt.gcf(),update,interval=100,blit=True,repeat=False,frames=196)\n",
        "anim.save('aqis.gif', writer='imagemagick')\n",
        "#anim"
      ]
    },
    {
      "cell_type": "markdown",
      "metadata": {
        "_cell_guid": "ef44dd1f-676d-a993-fd02-8b9906efe923"
      },
      "source": [
        "![Result screenshot from my inotebook - AQIs over time in certain states][1]\n",
        "\n",
        "\n",
        "  [1]: https://raw.githubusercontent.com/JaeyoonPark/airqualityindex/master/aqi800.gif \"Result screenshot from my inotebook - AQIs over time in certain states\""
      ]
    },
    {
      "cell_type": "markdown",
      "metadata": {
        "_cell_guid": "a3b2c95b-e048-3f84-969b-edbec8186182"
      },
      "source": [
        "## 4. Color coding\n",
        "Another way of plotting AQIs is to color states or counties. I'll focus only on ozone AQI on a random date. Due to lack of data for some states and counties in the original dataset, not all maps can be colored in this case. You can reuse the same function above to make it animated over time too. "
      ]
    },
    {
      "cell_type": "code",
      "execution_count": null,
      "metadata": {
        "_cell_guid": "cc595b37-35dc-9deb-728e-5b0338d1716a"
      },
      "outputs": [],
      "source": [
        "## Ozone AQI for the USA\n",
        "pollStO3 = pollSt.reset_index()[['State','Date Local','O3 AQI']]\n",
        "pollStO3 = pollStO3[pollStO3['Date Local']=='2015-06-30'].set_index('State')\n",
        "pollStO3"
      ]
    },
    {
      "cell_type": "markdown",
      "metadata": {
        "_cell_guid": "a501dfe0-5914-eb12-9768-16c63a437788"
      },
      "source": [
        "Well.. I can't upload my shapefile so this code won't be working when I publish on Kaggle. I'll try another way by using Plotly. You can meanwhile try this on your inotebook with shapefile (link provided above). Just to show you the result, I copied a screenshot from my ipython notebook below."
      ]
    },
    {
      "cell_type": "code",
      "execution_count": null,
      "metadata": {
        "_cell_guid": "e86c512b-1ba0-8252-7345-59e8d8a8f8c6"
      },
      "outputs": [],
      "source": [
        "\"\"\"\n",
        "    # Create the map\n",
        "    fig = plt.figure(figsize=(10,5))\n",
        "    map = Basemap(llcrnrlon=-119,llcrnrlat=22,urcrnrlon=-64,urcrnrlat=49,projection='lcc',lat_1=33,lat_2=45,lon_0=-95)\n",
        "    map.readshapefile('../input/st99_d00', name='states', drawbounds=True)\n",
        "    # Collect the state names from the shapefile attributes\n",
        "    state_names = []\n",
        "    for shape_dict in map.states_info:\n",
        "        state_names.append(shape_dict['NAME'])\n",
        "    ax = plt.gca()\n",
        "    cmap, norm = mpl.colors.from_levels_and_colors([0,50,100,150,200,300,500], ['green','yellow','orange','red','purple','maroon'])\n",
        "    m = mpl.cm.ScalarMappable(norm=norm, cmap=cmap)\n",
        "    for i,state in enumerate(pollStO3.index):\n",
        "        color = m.to_rgba(pollStO3['O3 AQI'][state])\n",
        "        if state!='District Of Columbia': \n",
        "            seg = map.states[state_names.index(state)]\n",
        "        poly = Polygon(seg, facecolor=color,edgecolor=color)\n",
        "        ax.add_patch(poly)\n",
        "    plt.title('2015-06-30 AQI O3 in USA')\n",
        "    plt.show()\n",
        "\"\"\""
      ]
    },
    {
      "cell_type": "markdown",
      "metadata": {
        "_cell_guid": "0a9761f1-9cd1-4c98-a890-03f3bdeb5a1c"
      },
      "source": [
        "![Result screenshot from my ipython notebook][1]\n",
        "\n",
        "\n",
        "  [1]: https://github.com/JaeyoonPark/airqualityindex/blob/master/2015-06-30%20AQI%20O3%20in%20USA.png?raw=true \"Result screenshot from my ipython notebook\""
      ]
    },
    {
      "cell_type": "code",
      "execution_count": null,
      "metadata": {
        "_cell_guid": "75450b3e-ec8b-a23d-b5a6-a6e27ef442d7"
      },
      "outputs": [],
      "source": [
        "## Ozone AQI for the State of California\n",
        "aqiO3Cal = pollCal[['County','Date Local','O3 AQI']]\n",
        "aqiO3Cal = aqiO3Cal[aqiO3Cal['Date Local']=='2009-08-31'].groupby(['County'])\n",
        "aqiO3Cal = aqiO3Cal.max()\n",
        "aqiO3Cal"
      ]
    },
    {
      "cell_type": "markdown",
      "metadata": {
        "_cell_guid": "ea373ec1-e3d7-295b-3289-3ed3d93a5f2d"
      },
      "source": [
        "Download a shapefile for the state of California and put color as per the AQI color code (only on the counties whose data is available). You can do it on your inotebook with shapefile downloaded. I'll just comment this out for now. I copied a screenshot from my ipython notebook just to show you..."
      ]
    },
    {
      "cell_type": "code",
      "execution_count": null,
      "metadata": {
        "_cell_guid": "d2e0589f-039d-5946-4c7f-16f115ffd1ab"
      },
      "outputs": [],
      "source": [
        "'''\n",
        "## Create the map\n",
        "plt.figure(figsize=(10,8))\n",
        "map = Basemap(llcrnrlon=-123,llcrnrlat=29,urcrnrlon=-115,urcrnrlat=45,\n",
        "              projection='lcc',lat_1=33,lat_2=45,lon_0=-95)\n",
        "# Load the shapefile, use 'counties'\n",
        "map.readshapefile('../input/CaliforniaCounty',name='counties',drawbounds=True)\n",
        "map.drawcounties()\n",
        "\n",
        "# Collect the county names from the shapefile attributes\n",
        "county_names = []\n",
        "for shape_dict in map.counties_info:\n",
        "    county_names.append(shape_dict['NAME'])\n",
        "    \n",
        "ax = plt.gca()\n",
        "cmap, norm = mpl.colors.from_levels_and_colors([0,50,100,150,200,300,500], ['green','yellow','orange','red','purple','maroon'])\n",
        "m = mpl.cm.ScalarMappable(norm=norm, cmap=cmap)\n",
        "\n",
        "for i,county in enumerate(aqiO3Cal.index):\n",
        "    color = m.to_rgba(aqiO3Cal['O3 AQI'][county])\n",
        "    seg = map.counties[county_names.index(county)]\n",
        "    poly = Polygon(seg, facecolor=color,edgecolor=color)\n",
        "    ax.add_patch(poly)\n",
        "\n",
        "plt.title('2009-08-31 AQI O3 in California')\n",
        "plt.show()\n",
        "'''"
      ]
    },
    {
      "cell_type": "markdown",
      "metadata": {
        "_cell_guid": "52d26526-18fa-2949-784d-8e27e3915deb"
      },
      "source": [
        "![Result screenshot in my ipython notebook][1]\n",
        "\n",
        "\n",
        "  [1]: https://raw.githubusercontent.com/JaeyoonPark/airqualityindex/master/2009-08-31%20AQI%20O3%20in%20California.png \"Result screenshot from my ipython notebook\""
      ]
    },
    {
      "cell_type": "code",
      "execution_count": null,
      "metadata": {
        "_cell_guid": "5c1dd210-1724-1e8a-0854-af3133122d1f"
      },
      "outputs": [],
      "source": [
        "import plotly.plotly as py\n",
        "from plotly.offline import iplot, init_notebook_mode\n",
        "init_notebook_mode()"
      ]
    },
    {
      "cell_type": "code",
      "execution_count": null,
      "metadata": {
        "_cell_guid": "ade77c73-c344-1ba8-e923-d1c2e70e06b7"
      },
      "outputs": [],
      "source": [
        "## To use plotly choropleth maps, states names must be encoded.\n",
        "us_state_abbrev = {\n",
        "    'Alabama': 'AL',\n",
        "    'Alaska': 'AK',\n",
        "    'Arizona': 'AZ',\n",
        "    'Arkansas': 'AR',\n",
        "    'California': 'CA',\n",
        "    'Colorado': 'CO',\n",
        "    'Connecticut': 'CT',\n",
        "    'Delaware': 'DE',\n",
        "    'Florida': 'FL',\n",
        "    'Georgia': 'GA',\n",
        "    'Hawaii': 'HI',\n",
        "    'Idaho': 'ID',\n",
        "    'Illinois': 'IL',\n",
        "    'Indiana': 'IN',\n",
        "    'Iowa': 'IA',\n",
        "    'Kansas': 'KS',\n",
        "    'Kentucky': 'KY',\n",
        "    'Louisiana': 'LA',\n",
        "    'Maine': 'ME',\n",
        "    'Maryland': 'MD',\n",
        "    'Massachusetts': 'MA',\n",
        "    'Michigan': 'MI',\n",
        "    'Minnesota': 'MN',\n",
        "    'Mississippi': 'MS',\n",
        "    'Missouri': 'MO',\n",
        "    'Montana': 'MT',\n",
        "    'Nebraska': 'NE',\n",
        "    'Nevada': 'NV',\n",
        "    'New Hampshire': 'NH',\n",
        "    'New Jersey': 'NJ',\n",
        "    'New Mexico': 'NM',\n",
        "    'New York': 'NY',\n",
        "    'North Carolina': 'NC',\n",
        "    'North Dakota': 'ND',\n",
        "    'Ohio': 'OH',\n",
        "    'Oklahoma': 'OK',\n",
        "    'Oregon': 'OR',\n",
        "    'Pennsylvania': 'PA',\n",
        "    'Rhode Island': 'RI',\n",
        "    'South Carolina': 'SC',\n",
        "    'South Dakota': 'SD',\n",
        "    'Tennessee': 'TN',\n",
        "    'Texas': 'TX',\n",
        "    'Utah': 'UT',\n",
        "    'Vermont': 'VT',\n",
        "    'Virginia': 'VA',\n",
        "    'Washington': 'WA',\n",
        "    'West Virginia': 'WV',\n",
        "    'Wisconsin': 'WI',\n",
        "    'Wyoming': 'WY',\n",
        "}"
      ]
    },
    {
      "cell_type": "code",
      "execution_count": null,
      "metadata": {
        "_cell_guid": "986459cd-7131-8a9e-68d1-0a267ffe1dc6"
      },
      "outputs": [],
      "source": [
        "pollStO3 = pollStO3.reset_index()\n",
        "pollStO3 = pollStO3[pollStO3['State']!='District Of Columbia']\n",
        "pollStO3['State_abbrev'] = pollStO3.State.apply(lambda x: us_state_abbrev[x])"
      ]
    },
    {
      "cell_type": "code",
      "execution_count": null,
      "metadata": {
        "_cell_guid": "6f4b74c2-14a4-3189-7fc6-3e7a2782ecad"
      },
      "outputs": [],
      "source": [
        "## Create 'dynamic' colorscale - it seems plotly doesn't provide fixed colorscale, so we should keep the colorcode fixed with some calculation...\n",
        "def scale(aqiSeries):\n",
        "    cmax = aqiSeries.max()\n",
        "    cmin = aqiSeries.min()\n",
        "    dt = 1e-5\n",
        "    cg = min((50-cmin)/(cmax-cmin)+dt,1.0)\n",
        "    cy = min((100-cmin)/(cmax-cmin)+dt,1.0)\n",
        "    co = min((150-cmin)/(cmax-cmin)+dt,1.0)\n",
        "    cr = min((200-cmin)/(cmax-cmin)+dt,1.0)\n",
        "    cp = min((300-cmin)/(cmax-cmin)+dt,1.0)\n",
        "    cm = min((500-cmin)/(cmax-cmin)+dt,1.0)\n",
        "\n",
        "    colorcode = [cg,cy,co,cr,cp,cm]\n",
        "    colors = ['green','yellow','orange','red','purple','maroon']\n",
        "    scl = []\n",
        "    prev = 0\n",
        "    for i in range(len(colorcode)):\n",
        "        scl.extend([[prev,colors[i]],[colorcode[i],colors[i]]])\n",
        "        prev=colorcode[i]\n",
        "        if colorcode[i]==1.0: break\n",
        "    \n",
        "    return scl"
      ]
    },
    {
      "cell_type": "markdown",
      "metadata": {
        "_cell_guid": "1cc0ebf7-2019-2b9d-acf9-5d30b94d5739"
      },
      "source": [
        "Now, I put data and layout parts for plotly choropleth. It offers you a very decent (and interactive) visulational results."
      ]
    },
    {
      "cell_type": "code",
      "execution_count": null,
      "metadata": {
        "_cell_guid": "4173e57b-1f20-21a5-403e-2dd2633bb6b6"
      },
      "outputs": [],
      "source": [
        "data = [ dict(\n",
        "        type='choropleth',\n",
        "        colorscale = scale(pollStO3['O3 AQI']),\n",
        "        autocolorscale = False,\n",
        "        locations = pollStO3.State_abbrev,\n",
        "        z = pollStO3['O3 AQI'],\n",
        "        locationmode = 'USA-states',\n",
        "        #text = df['text'],\n",
        "        marker = dict(\n",
        "            line = dict (\n",
        "                color = 'rgb(227,227,227)',\n",
        "                width = 1.5\n",
        "            ) ),\n",
        "        ) ]\n",
        "\n",
        "layout = dict(\n",
        "        title = '2015-06-30 AQI O3 in US',\n",
        "        geo = dict(\n",
        "            scope='usa',\n",
        "            projection=dict( type='albers usa' ),\n",
        "            showlakes = True,\n",
        "            lakecolor = 'rgb(255, 255, 255)'),\n",
        "             )\n",
        "\n",
        "figure = dict(data = data, layout = layout)\n",
        "iplot(figure)"
      ]
    },
    {
      "cell_type": "markdown",
      "metadata": {
        "_cell_guid": "9b4c362a-82de-f1ec-46a8-3f8a95f64273"
      },
      "source": [
        "At last, I'll put together monthly maximum AQIs (whichever AQI it is in the month) throughout 2015. It allows you to see the major trends of how the max AQI values (and its color code) changes month by month."
      ]
    },
    {
      "cell_type": "code",
      "execution_count": null,
      "metadata": {
        "_cell_guid": "1de20881-2fdc-d646-289a-17cff4b746ea"
      },
      "outputs": [],
      "source": [
        "## Create MaxAQI and MAXAQIValue that dipict the worst AQI and its value of the month\n",
        "pMonth = []\n",
        "months = ['2015-01-31','2015-02-28','2015-03-31','2015-04-30','2015-05-31','2015-06-30',\n",
        "        '2015-07-31','2015-08-31','2015-09-30','2015-10-31','2015-11-30','2015-12-31']\n",
        "pollStMonth = pollSt.reset_index(level=0).groupby(['State']).resample('M').max().drop(['State'],axis=1)\n",
        "pollStMonth = pollStMonth.reset_index()\n",
        "\n",
        "for i,month in enumerate(months):\n",
        "    p = pollStMonth[pollStMonth['Date Local']==month].copy()\n",
        "    p['MaxAQIValue'] = p.max(axis=1)\n",
        "    p['MaxAQI'] = p.drop(['State','Date Local'],axis=1).idxmax(axis=1)\n",
        "\n",
        "    p = p[p['State']!='District Of Columbia']\n",
        "    p['State_abbrev'] = p.State.apply(lambda x: us_state_abbrev[x])\n",
        "    pMonth.append(p[p['MaxAQI'].notnull()])"
      ]
    },
    {
      "cell_type": "code",
      "execution_count": null,
      "metadata": {
        "_cell_guid": "15356108-01ac-87d3-9332-92666686ff10"
      },
      "outputs": [],
      "source": [
        "data=[]\n",
        "layout = dict(\n",
        "        title = 'Monthly Max AQI in 2015',\n",
        "        width = 1000,\n",
        "        height = 600\n",
        ")\n",
        "\n",
        "for i in range(12):\n",
        "    geo_key = 'geo'+str(i+1) if i != 0 else 'geo'\n",
        "    data.append(dict(\n",
        "        type='choropleth',\n",
        "        locationmode = 'USA-states',\n",
        "        z = pMonth[i]['MaxAQIValue'],\n",
        "        colorscale = scale(pMonth[i]['MaxAQIValue']),\n",
        "        autocolorscale = False,\n",
        "        locations = pMonth[i].State_abbrev,\n",
        "        text = pMonth[i]['MaxAQI'].apply(lambda x:x[:-3]),\n",
        "        showscale =False,\n",
        "        geo=geo_key,\n",
        "        marker = dict(line = dict(color='rgb(227,227,227)',width = 1.5)),\n",
        "        ))\n",
        "    \n",
        "    data.append(dict(\n",
        "        type = 'scattergeo',\n",
        "        showlegend = False,\n",
        "        lon = [-80],\n",
        "        lat = [48],\n",
        "        geo = geo_key,\n",
        "        text = months[i][:-3],\n",
        "        mode = 'text',\n",
        "        ))\n",
        "    layout[geo_key] = dict(\n",
        "            scope='usa',\n",
        "            projection=dict( type='albers usa' ),\n",
        "            showlakes = True,\n",
        "            domain = dict( x = [], y = [] ),\n",
        "            lakecolor = 'rgb(255, 255, 255)')\n",
        "z = 0\n",
        "COLS = 4\n",
        "ROWS = 3\n",
        "for y in reversed(range(ROWS)):\n",
        "    for x in range(COLS):\n",
        "        geo_key = 'geo'+str(z+1) if z != 0 else 'geo'\n",
        "        layout[geo_key]['domain']['x'] = [float(x)/float(COLS), float(x+1)/float(COLS)]\n",
        "        layout[geo_key]['domain']['y'] = [float(y)/float(ROWS), float(y+1)/float(ROWS)]\n",
        "        z=z+1\n",
        "\n",
        "figure = dict(data = data, layout = layout)\n",
        "iplot(figure)"
      ]
    },
    {
      "cell_type": "markdown",
      "metadata": {
        "_cell_guid": "bb9cece8-ddd2-bf5f-d5f0-2e215213c041"
      },
      "source": [
        "# 5. End note\n",
        "This notebook was created with a focus on the usage of basemap with the animation tool and plotly. Basemap and plotly is a great tool for communication when it comes to geographic information particularly for environmental information such as air/water pollution, climate change, biodiversity and so forth. Basemap can be more powerful with shapefiles that you can easily access to free resources. It was a great exercise to handle this type of dataset with basemap and plotly/choropleth maps. I'll appreciate any comment or advice for the notebook above. Good day to you all! "
      ]
    }
  ],
  "metadata": {
    "_change_revision": 0,
    "_is_fork": false,
    "kernelspec": {
      "display_name": "Python 3",
      "language": "python",
      "name": "python3"
    },
    "language_info": {
      "codemirror_mode": {
        "name": "ipython",
        "version": 3
      },
      "file_extension": ".py",
      "mimetype": "text/x-python",
      "name": "python",
      "nbconvert_exporter": "python",
      "pygments_lexer": "ipython3",
      "version": "3.5.2"
    }
  },
  "nbformat": 4,
  "nbformat_minor": 0
}